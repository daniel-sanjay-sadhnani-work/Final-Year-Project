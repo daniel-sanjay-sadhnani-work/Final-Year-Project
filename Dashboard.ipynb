{
 "cells": [
  {
   "cell_type": "code",
   "execution_count": 2,
   "id": "503111dd-aa96-4c2f-b5fa-0409771db3ed",
   "metadata": {},
   "outputs": [
    {
     "data": {
      "text/html": [
       "\n",
       "        <iframe\n",
       "            width=\"100%\"\n",
       "            height=\"650\"\n",
       "            src=\"http://127.0.0.1:8050/\"\n",
       "            frameborder=\"0\"\n",
       "            allowfullscreen\n",
       "            \n",
       "        ></iframe>\n",
       "        "
      ],
      "text/plain": [
       "<IPython.lib.display.IFrame at 0x228fec9da00>"
      ]
     },
     "metadata": {},
     "output_type": "display_data"
    }
   ],
   "source": [
    "import dash\n",
    "from dash import dcc, html\n",
    "\n",
    "# Initialize the Dash app\n",
    "app = dash.Dash(__name__)\n",
    "\n",
    "# Define the app layout\n",
    "app.layout = html.Div([\n",
    "    html.H1(\"My Dashboard\"),\n",
    "\n",
    "    # Include the screenshot as an image\n",
    "    html.Div([\n",
    "        html.H2(\"How many hours per week do students with a GPA of 3.0 or higher game?\"),\n",
    "        html.Img(src='/assets/GameHours.png', style={'width': '50%'})\n",
    "    ]),\n",
    "    html.Div([\n",
    "        html.H2(\"How many hours per week do students with a GPA of 3.0 or higher work?\"),\n",
    "        html.Img(src='/assets/Part-TimeHours.png', style={'width': '50%'})\n",
    "    ]),\n",
    "    html.Div([\n",
    "        html.H2(\"How many ccas do students with 3.0 or higher gpa take?\"),\n",
    "        html.Img(src='/assets/CCA.png', style={'width': '50%'})\n",
    "    ]),\n",
    "    html.Div([\n",
    "        html.H2(\"How do class absences impact students acad perform?\"),\n",
    "        html.Img(src='/assets/Abscences.png', style={'width': '50%'})\n",
    "    ]),\n",
    "    html.Div([\n",
    "        html.H2(\"How Does game timing affect students GPA?\"),\n",
    "        html.Img(src='/assets/GameTiming.png', style={'width': '50%'})\n",
    "    ]),\n",
    "    html.Div([\n",
    "        html.H2(\"Agglomerative Clustering\"),\n",
    "        html.Img(src='/assets/AC.png', style={'width': '50%'})\n",
    "    ]),\n",
    "    html.Div([\n",
    "        html.H2(\"Affinity Propagation Clustering\"),\n",
    "        html.Img(src='/assets/AP.png', style={'width': '50%'})\n",
    "    ]),\n",
    "    html.Div([\n",
    "        html.H2(\"BIRCH Clustering\"),\n",
    "        html.Img(src='/assets/BIRCH.png', style={'width': '50%'})\n",
    "    ]),\n",
    "    \n",
    "])\n",
    "\n",
    "# Run the app\n",
    "if __name__ == '__main__':\n",
    "    app.run_server(debug=True)"
   ]
  },
  {
   "cell_type": "code",
   "execution_count": null,
   "id": "528387cc-3e94-4085-90af-25440f85fe1a",
   "metadata": {},
   "outputs": [],
   "source": []
  }
 ],
 "metadata": {
  "kernelspec": {
   "display_name": "Python 3 (ipykernel)",
   "language": "python",
   "name": "python3"
  },
  "language_info": {
   "codemirror_mode": {
    "name": "ipython",
    "version": 3
   },
   "file_extension": ".py",
   "mimetype": "text/x-python",
   "name": "python",
   "nbconvert_exporter": "python",
   "pygments_lexer": "ipython3",
   "version": "3.8.19"
  }
 },
 "nbformat": 4,
 "nbformat_minor": 5
}

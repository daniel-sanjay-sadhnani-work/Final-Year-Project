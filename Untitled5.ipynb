{
 "cells": [
  {
   "cell_type": "code",
   "execution_count": null,
   "id": "dca72162-0e6e-4c67-9e26-14611741067c",
   "metadata": {},
   "outputs": [],
   "source": [
    "pip install dash"
   ]
  },
  {
   "cell_type": "code",
   "execution_count": null,
   "id": "503111dd-aa96-4c2f-b5fa-0409771db3ed",
   "metadata": {},
   "outputs": [],
   "source": [
    "import dash\n",
    "from dash import dcc, html\n",
    "\n",
    "# Initialize the Dash app\n",
    "app = dash.Dash(__name__)\n",
    "\n",
    "# Define the app layout\n",
    "app.layout = html.Div([\n",
    "    html.H1(\"My Dashboard\"),\n",
    "\n",
    "    # Include the screenshot as an image\n",
    "    html.Div([\n",
    "        html.H2(\"How many hours per week do students with a GPA of 3.0 or higher game?\"),\n",
    "        html.Img(src='GameHours.png', style={'width': '100%'})\n",
    "    ]),\n",
    "    html.Div([\n",
    "        html.H2(\"How many hours per week do students with a GPA of 3.0 or higher work?\"),\n",
    "        html.Img(src='Part-TimeHours.png', style={'width': '100%'})\n",
    "    ]),\n",
    "    html.Div([\n",
    "        html.H2(\"How many ccas do students with 3.0 or higher gpa take?\"),\n",
    "        html.Img(src='CCA.png', style={'width': '100%'})\n",
    "    ]),\n",
    "    html.Div([\n",
    "        html.H2(\"How do class absences impact students acad perform?\"),\n",
    "        html.Img(src='Abscences.png', style={'width': '100%'})\n",
    "    ]),\n",
    "    html.Div([\n",
    "        html.H2(\"How Does game timing affect students GPA?\"),\n",
    "        html.Img(src='GameTiming.png', style={'width': '100%'})\n",
    "    ]),\n",
    "    \n",
    "])\n",
    "\n",
    "# Run the app\n",
    "if __name__ == '__main__':\n",
    "    app.run_server(debug=True)\n"
   ]
  },
  {
   "cell_type": "code",
   "execution_count": null,
   "id": "d9e223bd-1d33-4965-8fa4-cd955fdd44c1",
   "metadata": {},
   "outputs": [],
   "source": [
    "python app.py"
   ]
  },
  {
   "cell_type": "code",
   "execution_count": null,
   "id": "528387cc-3e94-4085-90af-25440f85fe1a",
   "metadata": {},
   "outputs": [],
   "source": []
  }
 ],
 "metadata": {
  "kernelspec": {
   "display_name": "Python 3 (ipykernel)",
   "language": "python",
   "name": "python3"
  },
  "language_info": {
   "codemirror_mode": {
    "name": "ipython",
    "version": 3
   },
   "file_extension": ".py",
   "mimetype": "text/x-python",
   "name": "python",
   "nbconvert_exporter": "python",
   "pygments_lexer": "ipython3",
   "version": "3.8.19"
  }
 },
 "nbformat": 4,
 "nbformat_minor": 5
}
